{
  "nbformat": 4,
  "nbformat_minor": 0,
  "metadata": {
    "colab": {
      "name": "DDBMS_Project_A.ipynb",
      "provenance": [],
      "mount_file_id": "1mBUyIojQQQ8ry0SGEUnkNXoFP2jG1OJM",
      "authorship_tag": "ABX9TyPdDcEIUKjOtPxs1VqHTIHY",
      "include_colab_link": true
    },
    "kernelspec": {
      "name": "python3",
      "display_name": "Python 3"
    },
    "language_info": {
      "name": "python"
    }
  },
  "cells": [
    {
      "cell_type": "markdown",
      "metadata": {
        "id": "view-in-github",
        "colab_type": "text"
      },
      "source": [
        "<a href=\"https://colab.research.google.com/github/MShiloni22/DDBMS_Project_A/blob/master/DDBMS_Project_A.ipynb\" target=\"_parent\"><img src=\"https://colab.research.google.com/assets/colab-badge.svg\" alt=\"Open In Colab\"/></a>"
      ]
    },
    {
      "cell_type": "code",
      "source": [
        "from google.colab import drive\n",
        "drive.mount('/content/drive')"
      ],
      "metadata": {
        "id": "mWNnZ2cu78n2",
        "colab": {
          "base_uri": "https://localhost:8080/"
        },
        "outputId": "f338bcfd-3309-4efe-cf58-9347b2307db7"
      },
      "execution_count": null,
      "outputs": [
        {
          "output_type": "stream",
          "name": "stdout",
          "text": [
            "Drive already mounted at /content/drive; to attempt to forcibly remount, call drive.mount(\"/content/drive\", force_remount=True).\n"
          ]
        }
      ]
    },
    {
      "cell_type": "code",
      "source": [
        "!pip install pyspark\n",
        "!pip install findspark"
      ],
      "metadata": {
        "colab": {
          "base_uri": "https://localhost:8080/"
        },
        "id": "tdHZG53o8Q4D",
        "outputId": "a6de17c9-c54d-4608-b82f-bd86479fd55b"
      },
      "execution_count": null,
      "outputs": [
        {
          "output_type": "stream",
          "name": "stdout",
          "text": [
            "Collecting pyspark\n",
            "  Downloading pyspark-3.2.1.tar.gz (281.4 MB)\n",
            "\u001b[K     |████████████████████████████████| 281.4 MB 31 kB/s \n",
            "\u001b[?25hCollecting py4j==0.10.9.3\n",
            "  Downloading py4j-0.10.9.3-py2.py3-none-any.whl (198 kB)\n",
            "\u001b[K     |████████████████████████████████| 198 kB 36.9 MB/s \n",
            "\u001b[?25hBuilding wheels for collected packages: pyspark\n",
            "  Building wheel for pyspark (setup.py) ... \u001b[?25l\u001b[?25hdone\n",
            "  Created wheel for pyspark: filename=pyspark-3.2.1-py2.py3-none-any.whl size=281853642 sha256=5d2bf277316f09bb2b82d58d6c0ffc3121c03d81f95f07c8398b677f7d1c18ca\n",
            "  Stored in directory: /root/.cache/pip/wheels/9f/f5/07/7cd8017084dce4e93e84e92efd1e1d5334db05f2e83bcef74f\n",
            "Successfully built pyspark\n",
            "Installing collected packages: py4j, pyspark\n",
            "Successfully installed py4j-0.10.9.3 pyspark-3.2.1\n",
            "Collecting findspark\n",
            "  Downloading findspark-2.0.1-py2.py3-none-any.whl (4.4 kB)\n",
            "Installing collected packages: findspark\n",
            "Successfully installed findspark-2.0.1\n"
          ]
        }
      ]
    },
    {
      "cell_type": "code",
      "source": [
        "import os\n",
        "import findspark\n",
        "import datetime as dt\n",
        "\n",
        "findspark.init()\n",
        "from pyspark.sql import SparkSession\n",
        "def init_spark(app_name: str):\n",
        " spark = SparkSession.builder.appName(app_name).getOrCreate()\n",
        " sc = spark.sparkContext\n",
        " return spark, sc\n",
        "spark, sc = init_spark('demo')\n",
        "sc"
      ],
      "metadata": {
        "colab": {
          "base_uri": "https://localhost:8080/",
          "height": 197
        },
        "id": "qVknTdsu8bUx",
        "outputId": "5f56c7ab-1432-4ef6-a8a7-b38c6efcb776"
      },
      "execution_count": 153,
      "outputs": [
        {
          "output_type": "execute_result",
          "data": {
            "text/plain": [
              "<SparkContext master=local[*] appName=demo>"
            ],
            "text/html": [
              "\n",
              "        <div>\n",
              "            <p><b>SparkContext</b></p>\n",
              "\n",
              "            <p><a href=\"http://363155422dde:4040\">Spark UI</a></p>\n",
              "\n",
              "            <dl>\n",
              "              <dt>Version</dt>\n",
              "                <dd><code>v3.2.1</code></dd>\n",
              "              <dt>Master</dt>\n",
              "                <dd><code>local[*]</code></dd>\n",
              "              <dt>AppName</dt>\n",
              "                <dd><code>demo</code></dd>\n",
              "            </dl>\n",
              "        </div>\n",
              "        "
            ]
          },
          "metadata": {},
          "execution_count": 153
        }
      ]
    },
    {
      "cell_type": "code",
      "source": [
        "# working on queries.csv extraction\n",
        "from pyspark.sql import SparkSession,Row, Column\n",
        "import pyspark.sql.functions as F\n",
        "spark = SparkSession.builder.appName('SparkByExamples.com').getOrCreate()\n",
        "queries_file = '/content/drive/MyDrive/Colab Files/DDBMS//queries.csv'\n",
        "df = spark.read.csv(queries_file, header='True', inferSchema='True')\n",
        "\n",
        "print(\"Loaded queries successfully\")\n"
      ],
      "metadata": {
        "colab": {
          "base_uri": "https://localhost:8080/"
        },
        "id": "IrMrtAb2LPXp",
        "outputId": "037c8901-13da-49cf-b89d-51bdaf2a574f"
      },
      "execution_count": 154,
      "outputs": [
        {
          "output_type": "stream",
          "name": "stdout",
          "text": [
            "Loaded queries successfully\n"
          ]
        }
      ]
    },
    {
      "cell_type": "code",
      "source": [
        "# doing the same process for all columns\n",
        "column_names = [\"genres\", \"lang\", \"actors\", \"director\", \"cities\", \"country\", \n",
        "                \"from_realese_date\", \"production_company\"]\n",
        "for name in column_names:\n",
        "  temp_name_1 = name + \"1\"\n",
        "  temp_name_2 = name + \"2\"\n",
        "  # removing irrelevant chars\n",
        "  df = df.select(\"*\", F.translate(F.col(name), \"'[]\", \"\")\\\n",
        "                .alias(temp_name_1))\\\n",
        "  .drop(name)\n",
        "\n",
        "  # converting arrays strings to arrays of strings\n",
        "  df = df.select(\"*\", F.split(F.col(temp_name_1),\",\").alias(temp_name_2)) \\\n",
        "      .drop(temp_name_1)\n",
        "  df = df.withColumnRenamed(temp_name_2,name)\n",
        "\n",
        "print(\"Cleaned and seperated to arrays\")"
      ],
      "metadata": {
        "colab": {
          "base_uri": "https://localhost:8080/"
        },
        "id": "ykASCsZq7On5",
        "outputId": "193e3f7b-4fad-4ffd-9046-152d5b22bd2a"
      },
      "execution_count": 155,
      "outputs": [
        {
          "output_type": "stream",
          "name": "stdout",
          "text": [
            "Cleaned and seperated to arrays\n"
          ]
        }
      ]
    },
    {
      "cell_type": "code",
      "source": [
        "# creating columns for each element in each column contains an array\n",
        "for name in column_names:\n",
        "  name_size = name + \"_size\"\n",
        "  # get max array's size in the column\n",
        "  df = df.withColumn(name_size, F.size(F.col(name)))\n",
        "  df_col_max = df.agg({name_size: 'max'})\n",
        "  max_col_size = df_col_max.collect()[0][0]\n",
        "\n",
        "  for i in range(max_col_size):\n",
        "    df = df.withColumn(name + \"_\" + str(i), F.col(name)[i])\n",
        "\n",
        "  df = df.drop(name)\n",
        "  df = df.drop(name_size)\n",
        "\n",
        "\n",
        "def drop_null_columns(df):\n",
        "  \n",
        "    \"\"\"\n",
        "    This function drops columns containing all null values.\n",
        "    :param df: A PySpark DataFrame\n",
        "    \"\"\"\n",
        "    \n",
        "    null_counts = df.select([F.count(F.when(F.col(c).isNull(), c)).alias(c) for c in df.columns]).collect()[0].asDict()\n",
        "    to_drop = [k for k, v in null_counts.items() if v >= df.count()]\n",
        "    df = df.drop(*to_drop)\n",
        "    \n",
        "    return df\n",
        "\n",
        "df = drop_null_columns(df)\n",
        "df.show()"
      ],
      "metadata": {
        "colab": {
          "base_uri": "https://localhost:8080/"
        },
        "id": "sIi32_EQG7F-",
        "outputId": "80849138-7996-4972-c7f3-58a1ca343972"
      },
      "execution_count": 156,
      "outputs": [
        {
          "output_type": "stream",
          "name": "stdout",
          "text": [
            "+-------+---------+----------------+----------------+-------+---------+------+------------------+----------------+--------------------+---------------+----------------+------------+----------+--------------+----------+--------+-----------+----------------+---------+-------------------+-------------------+-------------------+--------------------+--------------------+--------------------+--------------------+--------------------+\n",
            "|user_id| genres_0|        genres_1|        genres_2| lang_0|   lang_1|lang_2|          actors_0|        actors_1|            actors_2|       actors_3|      director_0|  director_1|director_2|      cities_0|  cities_1|cities_2|  country_0|       country_1|country_2|from_realese_date_0|from_realese_date_1|from_realese_date_2|production_company_0|production_company_1|production_company_2|production_company_3|production_company_4|\n",
            "+-------+---------+----------------+----------------+-------+---------+------+------------------+----------------+--------------------+---------------+----------------+------------+----------+--------------+----------+--------+-----------+----------------+---------+-------------------+-------------------+-------------------+--------------------+--------------------+--------------------+--------------------+--------------------+\n",
            "|    981|  Western|         Mystery|            null|English|   Srpski|  null|                  |            null|                null|           null|    Nae Caranfil|        null|      null|         Haifa|  Tiberias|    null|           |            null|     null|               2012|               null|               null|Katakuri-ke no Kô...| Samson Productio...|                null|                null|                null|\n",
            "|   3775|   Action|         Western|            null|English|     null|  null|                  |            null|                null|           null|                |        null|      null|      Tel Aviv|      null|    null|           |            null|     null|               2013|               null|               null|        Clavius Base|       Triplex Films|                null|                null|                null|\n",
            "|   4095|    Crime|            null|            null|English| עִבְרִית|  null|     Kenneth Alton|     Johnny Depp|                null|           null|                |        null|      null|     Jerusalem|      null|    null|    Belgium|         Moldova|     null|               1995|               null|               null|Peter Carsten Pro...|         HDNet Films|                null|                null|                null|\n",
            "|   3363|Animation|         Western|            null|English|     null|  null|                  |            null|                null|           null|    Philip Dunne|        null|      null|         Haifa|      null|    null|    Croatia|            null|     null|               2014|               null|               null|Centrul de Produc...|   Les Films Pelléas|                null|                null|                null|\n",
            "|   8982|   Action|     Documentary|            null|English|     null|  null|                  |            null|                null|           null|                |        null|      null|      Tel Aviv| Jerusalem|    null|           |            null|     null|               2018|               null|               null|Vortex Words Pict...| Internationale F...|                null|                null|                null|\n",
            "|   7603| TV Movie|            null|            null|English|     null|  null|         Tom Hanks| Stuart Townsend|                null|           null|                |        null|      null|     Jerusalem|      null|    null|    Jamaica|          Israel|     null|               1999|               null|               null|     Northern Lights|                null|                null|                null|                null|\n",
            "|   3112|  Fantasy|       Adventure|            null|English|     null|  null|                  |            null|                null|           null|                |        null|      null|         Eilat|      null|    null|  Guatemala| Kyrgyz Republic|     null|               1996|               null|               null|         Warner Bros| Pixar Animation ...|          Horse Film|                null|                null|\n",
            "|   7217|    Drama|       Animation|          Action|English| עִבְרִית|  null|                  |            null|                null|           null|                |        null|      null|     Jerusalem|      null|    null|      Qatar|          Israel|     null|               1999|               null|               null|               Chill|                null|                null|                null|                null|\n",
            "|   9716|    Crime|         Romance|            null|English|     null|  null|                  |            null|                null|           null|                |        null|      null|         Eilat|      null|    null|Switzerland|        Mongolia|     null|               2006|               null|               null|   Monogram Pictures| Pixar Animation ...|                null|                null|                null|\n",
            "|   4832|    Drama|       Animation|        TV Movie|English|     null|  null|                  |            null|                null|           null|  Michael Tiddes|        null|      null|         Haifa|      null|    null|           |            null|     null|               2012|               null|               null|    Joel Productions|    Constantin Film.|                null|                null|                null|\n",
            "|   8260|   Family|            null|            null|English|     null|  null| \"\"\"Terry OQuinn\"\"|            null|                null|           null| Johnny Larocque|        null|      null| Edward Walsh\"|      null|    null|           |            null|     null|           Tiberias|               null|               null|             Namibia|             Morocco|                null|                null|                null|\n",
            "|   2772|   Action|          Family|            null|English|     null|  null|       Harry Carey|             Jr.| Lauren Shuler Do...| Daniel Enright|                |        null|      null|      Tel Aviv|      null|    null|           |            null|     null|               2017|               null|               null|MGM-Pathé Communi...|   TSJ Entertainment|                null|                null|                null|\n",
            "|   8971|Adventure| Science Fiction|            null|English|     null|  null|                  |            null|                null|           null|                |        null|      null|         Eilat|      null|    null|      Congo|        Ethiopia|     null|               2004|               null|               null|Walt Disney Pictures| Pixar Animation ...| Yannix Technolog...|                null|                null|\n",
            "|  10496|    Drama|       Animation|            null|English|     null|  null|       Osamu Hosoi|    Eunice Black|                null|           null|   Julia Sweeney|        SABU|      null|         Haifa|      null|    null|           |            null|     null|               2016|               null|               null|       RTV Slovenija| Zoki Century Int...|                null|                null|                null|\n",
            "|   9658|    Drama|       Adventure|         Mystery|English|     null|  null|      Otto Klopsch|            null|                null|           null|     So Yong Kim|        null|      null|         Haifa|      null|    null|           |            null|     null|               2018|               null|               null|Rational Packagin...|         Honey Films|                null|                null|                null|\n",
            "|  10114|   Horror|       Adventure|            null|English|  ภาษาไทย|  null|                  |            null|                null|           null|                |        null|      null|         Eilat|      null|    null|Netherlands|      Kazakhstan|     null|               2016|               null|               null|Walt Disney Pictures| Pixar Animation ...| Optimum Productions|                null|                null|\n",
            "|   2727|    Drama|       Adventure| Science Fiction|English|    ?????|  null|Bernadette Leonard|            null|                null|           null|Philippe Le Guay| Wim Wenders|      null|         Haifa|      null|    null|           |            null|     null|               2018|               null|               null|   HE-Filmproduktion| Sinatra Enterprises|                null|                null|                null|\n",
            "|   1889|    Drama|          Horror|             War|English|     null|  null|    Hassan Majooni|            null|                null|           null|                |        null|      null|         Haifa|      null|    null|           |            null|     null|               2016|               null|               null|\"\"\"Thats Nice Fil...|                null|                null|                null|                null|\n",
            "|   8235|    Drama|          Action|            null|English|     null|  null|        Gil Herman|            null|                null|           null|    Mariano Cohn|        null|      null|         Haifa|      null|    null|           |            null|     null|               2012|               null|               null|\"\"\"Centre Nationa...|                null|                null|                null|                null|\n",
            "|   6345|Animation|       Adventure|            null|English|     null|  null|                  |            null|                null|           null|                |        null|      null|         Eilat|      null|    null|South Korea|         Morocco|     null|               2012|               null|               null|Pixar Animation S...| Film Development...|                null|                null|                null|\n",
            "+-------+---------+----------------+----------------+-------+---------+------+------------------+----------------+--------------------+---------------+----------------+------------+----------+--------------+----------+--------+-----------+----------------+---------+-------------------+-------------------+-------------------+--------------------+--------------------+--------------------+--------------------+--------------------+\n",
            "only showing top 20 rows\n",
            "\n"
          ]
        }
      ]
    }
  ]
}